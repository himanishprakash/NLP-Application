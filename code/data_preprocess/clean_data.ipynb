{
 "cells": [
  {
   "cell_type": "code",
   "execution_count": 2,
   "metadata": {},
   "outputs": [],
   "source": [
    "import pandas as pd"
   ]
  },
  {
   "cell_type": "code",
   "execution_count": 9,
   "metadata": {},
   "outputs": [],
   "source": [
    "read_csv = pd.read_csv('/Users/kumarkishalaya/Desktop/NLP-Application/Next_word_prediction/IPL_Match_Highlights_Commentary.csv') \n",
    "df = read_csv[[\"Team\",\"Commentary\",\"batsman\"]]\n"
   ]
  },
  {
   "cell_type": "code",
   "execution_count": 10,
   "metadata": {},
   "outputs": [
    {
     "name": "stderr",
     "output_type": "stream",
     "text": [
      "/var/folders/ly/npw69p7x4lg1l7s7mm3y7twm0000gn/T/ipykernel_23252/3935744984.py:1: SettingWithCopyWarning: \n",
      "A value is trying to be set on a copy of a slice from a DataFrame.\n",
      "Try using .loc[row_indexer,col_indexer] = value instead\n",
      "\n",
      "See the caveats in the documentation: https://pandas.pydata.org/pandas-docs/stable/user_guide/indexing.html#returning-a-view-versus-a-copy\n",
      "  df[['bowler', 'batsman']] = df['batsman'].str.split(' to ', expand=True)\n"
     ]
    }
   ],
   "source": [
    "df[['bowler', 'batsman']] = df['batsman'].str.split(' to ', expand=True)"
   ]
  },
  {
   "cell_type": "code",
   "execution_count": 11,
   "metadata": {},
   "outputs": [
    {
     "data": {
      "text/html": [
       "<div>\n",
       "<style scoped>\n",
       "    .dataframe tbody tr th:only-of-type {\n",
       "        vertical-align: middle;\n",
       "    }\n",
       "\n",
       "    .dataframe tbody tr th {\n",
       "        vertical-align: top;\n",
       "    }\n",
       "\n",
       "    .dataframe thead th {\n",
       "        text-align: right;\n",
       "    }\n",
       "</style>\n",
       "<table border=\"1\" class=\"dataframe\">\n",
       "  <thead>\n",
       "    <tr style=\"text-align: right;\">\n",
       "      <th></th>\n",
       "      <th>Team</th>\n",
       "      <th>Commentary</th>\n",
       "      <th>batsman</th>\n",
       "      <th>bowler</th>\n",
       "    </tr>\n",
       "  </thead>\n",
       "  <tbody>\n",
       "    <tr>\n",
       "      <th>0</th>\n",
       "      <td>RCB 1st Inns</td>\n",
       "      <td>Nehra to Mandeep, FOUR, first boundary for Man...</td>\n",
       "      <td>Mandeep</td>\n",
       "      <td>Nehra</td>\n",
       "    </tr>\n",
       "    <tr>\n",
       "      <th>1</th>\n",
       "      <td>RCB 1st Inns</td>\n",
       "      <td>Nehra to Mandeep, FOUR, back-to-back boundarie...</td>\n",
       "      <td>Mandeep</td>\n",
       "      <td>Nehra</td>\n",
       "    </tr>\n",
       "    <tr>\n",
       "      <th>2</th>\n",
       "      <td>RCB 1st Inns</td>\n",
       "      <td>Henriques to Kedar Jadhav, FOUR, hit straight ...</td>\n",
       "      <td>Kedar Jadhav</td>\n",
       "      <td>Henriques</td>\n",
       "    </tr>\n",
       "    <tr>\n",
       "      <th>3</th>\n",
       "      <td>RCB 1st Inns</td>\n",
       "      <td>Nehra to Kedar Jadhav, FOUR, another full toss...</td>\n",
       "      <td>Kedar Jadhav</td>\n",
       "      <td>Nehra</td>\n",
       "    </tr>\n",
       "    <tr>\n",
       "      <th>4</th>\n",
       "      <td>RCB 1st Inns</td>\n",
       "      <td>Nehra to Kedar Jadhav, FOUR, four more. Jadhav...</td>\n",
       "      <td>Kedar Jadhav</td>\n",
       "      <td>Nehra</td>\n",
       "    </tr>\n",
       "  </tbody>\n",
       "</table>\n",
       "</div>"
      ],
      "text/plain": [
       "           Team                                         Commentary  \\\n",
       "0  RCB 1st Inns  Nehra to Mandeep, FOUR, first boundary for Man...   \n",
       "1  RCB 1st Inns  Nehra to Mandeep, FOUR, back-to-back boundarie...   \n",
       "2  RCB 1st Inns  Henriques to Kedar Jadhav, FOUR, hit straight ...   \n",
       "3  RCB 1st Inns  Nehra to Kedar Jadhav, FOUR, another full toss...   \n",
       "4  RCB 1st Inns  Nehra to Kedar Jadhav, FOUR, four more. Jadhav...   \n",
       "\n",
       "        batsman     bowler  \n",
       "0       Mandeep      Nehra  \n",
       "1       Mandeep      Nehra  \n",
       "2  Kedar Jadhav  Henriques  \n",
       "3  Kedar Jadhav      Nehra  \n",
       "4  Kedar Jadhav      Nehra  "
      ]
     },
     "execution_count": 11,
     "metadata": {},
     "output_type": "execute_result"
    }
   ],
   "source": [
    "df.head()"
   ]
  },
  {
   "cell_type": "code",
   "execution_count": 12,
   "metadata": {},
   "outputs": [],
   "source": [
    "teams = df['Team'].apply(lambda x: x.split()[0]).unique().tolist()\n",
    "# Step 2: Split the `batsman` column into 'bowler' and 'batsman'\n",
    "all_players = pd.unique(df[['bowler', 'batsman']].values.ravel('K')).tolist()"
   ]
  },
  {
   "cell_type": "code",
   "execution_count": 16,
   "metadata": {},
   "outputs": [],
   "source": [
    "def replace_terms(row):\n",
    "    commentary = row['Commentary']\n",
    "    # Replace bowler and batsman names first\n",
    "    commentary = commentary.replace(row['bowler'], 'bowler')\n",
    "    commentary = commentary.replace(row['batsman'], 'batsman')\n",
    "    # Replace team names\n",
    "    for team in teams:\n",
    "        commentary = commentary.replace(team, 'team')\n",
    "    return commentary\n"
   ]
  },
  {
   "cell_type": "code",
   "execution_count": 17,
   "metadata": {},
   "outputs": [
    {
     "name": "stderr",
     "output_type": "stream",
     "text": [
      "/var/folders/ly/npw69p7x4lg1l7s7mm3y7twm0000gn/T/ipykernel_23252/3619961133.py:1: SettingWithCopyWarning: \n",
      "A value is trying to be set on a copy of a slice from a DataFrame.\n",
      "Try using .loc[row_indexer,col_indexer] = value instead\n",
      "\n",
      "See the caveats in the documentation: https://pandas.pydata.org/pandas-docs/stable/user_guide/indexing.html#returning-a-view-versus-a-copy\n",
      "  df['Modified_Commentary'] = df.apply(replace_terms, axis=1)\n"
     ]
    }
   ],
   "source": [
    "df['Modified_Commentary'] = df.apply(replace_terms, axis=1)"
   ]
  },
  {
   "cell_type": "code",
   "execution_count": 23,
   "metadata": {},
   "outputs": [
    {
     "data": {
      "text/plain": [
       "\"bowler to batsman, FOUR, four more. Jadhav starting to really find his timing now and he's looking dangerous. This is smart batting rather than just throwing his bat at everything. He knows that fine leg is up and so he waits for the back of a length delivery to come to him before pulling it over the fielder. bowler under pressure\""
      ]
     },
     "execution_count": 23,
     "metadata": {},
     "output_type": "execute_result"
    }
   ],
   "source": [
    "df.Modified_Commentary[4]"
   ]
  },
  {
   "cell_type": "code",
   "execution_count": 26,
   "metadata": {},
   "outputs": [],
   "source": [
    "df_commentary = df[['Modified_Commentary']]\n",
    "df_commentary.to_csv(\"df_commentary.csv\")"
   ]
  },
  {
   "cell_type": "code",
   "execution_count": null,
   "metadata": {},
   "outputs": [],
   "source": []
  }
 ],
 "metadata": {
  "kernelspec": {
   "display_name": "Python 3",
   "language": "python",
   "name": "python3"
  },
  "language_info": {
   "codemirror_mode": {
    "name": "ipython",
    "version": 3
   },
   "file_extension": ".py",
   "mimetype": "text/x-python",
   "name": "python",
   "nbconvert_exporter": "python",
   "pygments_lexer": "ipython3",
   "version": "3.10.8"
  }
 },
 "nbformat": 4,
 "nbformat_minor": 2
}

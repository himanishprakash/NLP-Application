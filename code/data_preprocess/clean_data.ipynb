{
 "cells": [
  {
   "cell_type": "code",
   "execution_count": 1,
   "metadata": {},
   "outputs": [],
   "source": [
    "import pandas as pd"
   ]
  },
  {
   "cell_type": "code",
   "execution_count": 2,
   "metadata": {},
   "outputs": [],
   "source": [
    "read_csv = pd.read_csv('/Users/himanishprakash/NLP-Application/Next_word_prediction/IPL_Match_Highlights_Commentary.csv') \n",
    "df = read_csv[[\"Team\",\"Commentary\",\"batsman\"]]\n"
   ]
  },
  {
   "cell_type": "code",
   "execution_count": 3,
   "metadata": {},
   "outputs": [
    {
     "name": "stderr",
     "output_type": "stream",
     "text": [
      "/var/folders/q8/ljm60kbj15sdr2ljq0vcfbq00000gn/T/ipykernel_25303/3935744984.py:1: SettingWithCopyWarning: \n",
      "A value is trying to be set on a copy of a slice from a DataFrame.\n",
      "Try using .loc[row_indexer,col_indexer] = value instead\n",
      "\n",
      "See the caveats in the documentation: https://pandas.pydata.org/pandas-docs/stable/user_guide/indexing.html#returning-a-view-versus-a-copy\n",
      "  df[['bowler', 'batsman']] = df['batsman'].str.split(' to ', expand=True)\n"
     ]
    }
   ],
   "source": [
    "df[['bowler', 'batsman']] = df['batsman'].str.split(' to ', expand=True)"
   ]
  },
  {
   "cell_type": "code",
   "execution_count": 4,
   "metadata": {},
   "outputs": [
    {
     "data": {
      "text/html": [
       "<div>\n",
       "<style scoped>\n",
       "    .dataframe tbody tr th:only-of-type {\n",
       "        vertical-align: middle;\n",
       "    }\n",
       "\n",
       "    .dataframe tbody tr th {\n",
       "        vertical-align: top;\n",
       "    }\n",
       "\n",
       "    .dataframe thead th {\n",
       "        text-align: right;\n",
       "    }\n",
       "</style>\n",
       "<table border=\"1\" class=\"dataframe\">\n",
       "  <thead>\n",
       "    <tr style=\"text-align: right;\">\n",
       "      <th></th>\n",
       "      <th>Team</th>\n",
       "      <th>Commentary</th>\n",
       "      <th>batsman</th>\n",
       "      <th>bowler</th>\n",
       "    </tr>\n",
       "  </thead>\n",
       "  <tbody>\n",
       "    <tr>\n",
       "      <th>0</th>\n",
       "      <td>RCB 1st Inns</td>\n",
       "      <td>Nehra to Mandeep, FOUR, first boundary for Man...</td>\n",
       "      <td>Mandeep</td>\n",
       "      <td>Nehra</td>\n",
       "    </tr>\n",
       "    <tr>\n",
       "      <th>1</th>\n",
       "      <td>RCB 1st Inns</td>\n",
       "      <td>Nehra to Mandeep, FOUR, back-to-back boundarie...</td>\n",
       "      <td>Mandeep</td>\n",
       "      <td>Nehra</td>\n",
       "    </tr>\n",
       "    <tr>\n",
       "      <th>2</th>\n",
       "      <td>RCB 1st Inns</td>\n",
       "      <td>Henriques to Kedar Jadhav, FOUR, hit straight ...</td>\n",
       "      <td>Kedar Jadhav</td>\n",
       "      <td>Henriques</td>\n",
       "    </tr>\n",
       "    <tr>\n",
       "      <th>3</th>\n",
       "      <td>RCB 1st Inns</td>\n",
       "      <td>Nehra to Kedar Jadhav, FOUR, another full toss...</td>\n",
       "      <td>Kedar Jadhav</td>\n",
       "      <td>Nehra</td>\n",
       "    </tr>\n",
       "    <tr>\n",
       "      <th>4</th>\n",
       "      <td>RCB 1st Inns</td>\n",
       "      <td>Nehra to Kedar Jadhav, FOUR, four more. Jadhav...</td>\n",
       "      <td>Kedar Jadhav</td>\n",
       "      <td>Nehra</td>\n",
       "    </tr>\n",
       "  </tbody>\n",
       "</table>\n",
       "</div>"
      ],
      "text/plain": [
       "           Team                                         Commentary  \\\n",
       "0  RCB 1st Inns  Nehra to Mandeep, FOUR, first boundary for Man...   \n",
       "1  RCB 1st Inns  Nehra to Mandeep, FOUR, back-to-back boundarie...   \n",
       "2  RCB 1st Inns  Henriques to Kedar Jadhav, FOUR, hit straight ...   \n",
       "3  RCB 1st Inns  Nehra to Kedar Jadhav, FOUR, another full toss...   \n",
       "4  RCB 1st Inns  Nehra to Kedar Jadhav, FOUR, four more. Jadhav...   \n",
       "\n",
       "        batsman     bowler  \n",
       "0       Mandeep      Nehra  \n",
       "1       Mandeep      Nehra  \n",
       "2  Kedar Jadhav  Henriques  \n",
       "3  Kedar Jadhav      Nehra  \n",
       "4  Kedar Jadhav      Nehra  "
      ]
     },
     "execution_count": 4,
     "metadata": {},
     "output_type": "execute_result"
    }
   ],
   "source": [
    "df.head()"
   ]
  },
  {
   "cell_type": "code",
   "execution_count": 5,
   "metadata": {},
   "outputs": [],
   "source": [
    "teams = df['Team'].apply(lambda x: x.split()[0]).unique().tolist()\n",
    "# Step 2: Split the `batsman` column into 'bowler' and 'batsman'\n",
    "all_players = pd.unique(df[['bowler', 'batsman']].values.ravel('K')).tolist()"
   ]
  },
  {
   "cell_type": "code",
   "execution_count": 6,
   "metadata": {},
   "outputs": [],
   "source": [
    "def replace_terms(row):\n",
    "    commentary = row['Commentary']\n",
    "    # Replace bowler and batsman names first\n",
    "    commentary = commentary.replace(row['bowler'], 'bowler')\n",
    "    commentary = commentary.replace(row['batsman'], 'batsman')\n",
    "    # Replace team names\n",
    "    for team in teams:\n",
    "        commentary = commentary.replace(team, 'team')\n",
    "    return commentary\n"
   ]
  },
  {
   "cell_type": "code",
   "execution_count": 7,
   "metadata": {},
   "outputs": [
    {
     "name": "stderr",
     "output_type": "stream",
     "text": [
      "/var/folders/q8/ljm60kbj15sdr2ljq0vcfbq00000gn/T/ipykernel_25303/3619961133.py:1: SettingWithCopyWarning: \n",
      "A value is trying to be set on a copy of a slice from a DataFrame.\n",
      "Try using .loc[row_indexer,col_indexer] = value instead\n",
      "\n",
      "See the caveats in the documentation: https://pandas.pydata.org/pandas-docs/stable/user_guide/indexing.html#returning-a-view-versus-a-copy\n",
      "  df['Modified_Commentary'] = df.apply(replace_terms, axis=1)\n"
     ]
    }
   ],
   "source": [
    "df['Modified_Commentary'] = df.apply(replace_terms, axis=1)"
   ]
  },
  {
   "cell_type": "code",
   "execution_count": 10,
   "metadata": {},
   "outputs": [
    {
     "data": {
      "text/html": [
       "<div>\n",
       "<style scoped>\n",
       "    .dataframe tbody tr th:only-of-type {\n",
       "        vertical-align: middle;\n",
       "    }\n",
       "\n",
       "    .dataframe tbody tr th {\n",
       "        vertical-align: top;\n",
       "    }\n",
       "\n",
       "    .dataframe thead th {\n",
       "        text-align: right;\n",
       "    }\n",
       "</style>\n",
       "<table border=\"1\" class=\"dataframe\">\n",
       "  <thead>\n",
       "    <tr style=\"text-align: right;\">\n",
       "      <th></th>\n",
       "      <th>Team</th>\n",
       "      <th>Commentary</th>\n",
       "      <th>batsman</th>\n",
       "      <th>bowler</th>\n",
       "      <th>Modified_Commentary</th>\n",
       "    </tr>\n",
       "  </thead>\n",
       "  <tbody>\n",
       "    <tr>\n",
       "      <th>0</th>\n",
       "      <td>RCB 1st Inns</td>\n",
       "      <td>Nehra to Mandeep, FOUR, first boundary for Man...</td>\n",
       "      <td>Mandeep</td>\n",
       "      <td>Nehra</td>\n",
       "      <td>bowler to batsman, FOUR, first boundary for ba...</td>\n",
       "    </tr>\n",
       "    <tr>\n",
       "      <th>1</th>\n",
       "      <td>RCB 1st Inns</td>\n",
       "      <td>Nehra to Mandeep, FOUR, back-to-back boundarie...</td>\n",
       "      <td>Mandeep</td>\n",
       "      <td>Nehra</td>\n",
       "      <td>bowler to batsman, FOUR, back-to-back boundari...</td>\n",
       "    </tr>\n",
       "    <tr>\n",
       "      <th>2</th>\n",
       "      <td>RCB 1st Inns</td>\n",
       "      <td>Henriques to Kedar Jadhav, FOUR, hit straight ...</td>\n",
       "      <td>Kedar Jadhav</td>\n",
       "      <td>Henriques</td>\n",
       "      <td>bowler to batsman, FOUR, hit straight back at ...</td>\n",
       "    </tr>\n",
       "    <tr>\n",
       "      <th>3</th>\n",
       "      <td>RCB 1st Inns</td>\n",
       "      <td>Nehra to Kedar Jadhav, FOUR, another full toss...</td>\n",
       "      <td>Kedar Jadhav</td>\n",
       "      <td>Nehra</td>\n",
       "      <td>bowler to batsman, FOUR, another full toss, it...</td>\n",
       "    </tr>\n",
       "    <tr>\n",
       "      <th>4</th>\n",
       "      <td>RCB 1st Inns</td>\n",
       "      <td>Nehra to Kedar Jadhav, FOUR, four more. Jadhav...</td>\n",
       "      <td>Kedar Jadhav</td>\n",
       "      <td>Nehra</td>\n",
       "      <td>bowler to batsman, FOUR, four more. Jadhav sta...</td>\n",
       "    </tr>\n",
       "    <tr>\n",
       "      <th>...</th>\n",
       "      <td>...</td>\n",
       "      <td>...</td>\n",
       "      <td>...</td>\n",
       "      <td>...</td>\n",
       "      <td>...</td>\n",
       "    </tr>\n",
       "    <tr>\n",
       "      <th>11569</th>\n",
       "      <td>RR 1st Inns</td>\n",
       "      <td>Rabada to Smith, FOUR, who'd've thought the wo...</td>\n",
       "      <td>Smith</td>\n",
       "      <td>Rabada</td>\n",
       "      <td>bowler to batsman, FOUR, who'd've thought the ...</td>\n",
       "    </tr>\n",
       "    <tr>\n",
       "      <th>11570</th>\n",
       "      <td>RR 1st Inns</td>\n",
       "      <td>Harshal Patel to Jaiswal, SIX, short ball, and...</td>\n",
       "      <td>Jaiswal</td>\n",
       "      <td>Harshal Patel</td>\n",
       "      <td>bowler to batsman, SIX, short ball, and batsma...</td>\n",
       "    </tr>\n",
       "    <tr>\n",
       "      <th>11571</th>\n",
       "      <td>RR 1st Inns</td>\n",
       "      <td>Ashwin to Smith, FOUR, a rare rank half-tracke...</td>\n",
       "      <td>Smith</td>\n",
       "      <td>Ashwin</td>\n",
       "      <td>bowler to batsman, FOUR, a rare rank half-trac...</td>\n",
       "    </tr>\n",
       "    <tr>\n",
       "      <th>11572</th>\n",
       "      <td>RR 1st Inns</td>\n",
       "      <td>Ashwin to Jaiswal, 1 run, pushes this one hast...</td>\n",
       "      <td>Jaiswal</td>\n",
       "      <td>Ashwin</td>\n",
       "      <td>bowler to batsman, 1 run, pushes this one hast...</td>\n",
       "    </tr>\n",
       "    <tr>\n",
       "      <th>11573</th>\n",
       "      <td>RR 1st Inns</td>\n",
       "      <td>Nortje to Smith, out Caught by Hetmyer! That's...</td>\n",
       "      <td>Smith</td>\n",
       "      <td>Nortje</td>\n",
       "      <td>bowler to batsman, out Caught by Hetmyer! That...</td>\n",
       "    </tr>\n",
       "  </tbody>\n",
       "</table>\n",
       "<p>11574 rows × 5 columns</p>\n",
       "</div>"
      ],
      "text/plain": [
       "               Team                                         Commentary  \\\n",
       "0      RCB 1st Inns  Nehra to Mandeep, FOUR, first boundary for Man...   \n",
       "1      RCB 1st Inns  Nehra to Mandeep, FOUR, back-to-back boundarie...   \n",
       "2      RCB 1st Inns  Henriques to Kedar Jadhav, FOUR, hit straight ...   \n",
       "3      RCB 1st Inns  Nehra to Kedar Jadhav, FOUR, another full toss...   \n",
       "4      RCB 1st Inns  Nehra to Kedar Jadhav, FOUR, four more. Jadhav...   \n",
       "...             ...                                                ...   \n",
       "11569   RR 1st Inns  Rabada to Smith, FOUR, who'd've thought the wo...   \n",
       "11570   RR 1st Inns  Harshal Patel to Jaiswal, SIX, short ball, and...   \n",
       "11571   RR 1st Inns  Ashwin to Smith, FOUR, a rare rank half-tracke...   \n",
       "11572   RR 1st Inns  Ashwin to Jaiswal, 1 run, pushes this one hast...   \n",
       "11573   RR 1st Inns  Nortje to Smith, out Caught by Hetmyer! That's...   \n",
       "\n",
       "            batsman         bowler  \\\n",
       "0           Mandeep          Nehra   \n",
       "1           Mandeep          Nehra   \n",
       "2      Kedar Jadhav      Henriques   \n",
       "3      Kedar Jadhav          Nehra   \n",
       "4      Kedar Jadhav          Nehra   \n",
       "...             ...            ...   \n",
       "11569         Smith         Rabada   \n",
       "11570       Jaiswal  Harshal Patel   \n",
       "11571         Smith         Ashwin   \n",
       "11572       Jaiswal         Ashwin   \n",
       "11573         Smith         Nortje   \n",
       "\n",
       "                                     Modified_Commentary  \n",
       "0      bowler to batsman, FOUR, first boundary for ba...  \n",
       "1      bowler to batsman, FOUR, back-to-back boundari...  \n",
       "2      bowler to batsman, FOUR, hit straight back at ...  \n",
       "3      bowler to batsman, FOUR, another full toss, it...  \n",
       "4      bowler to batsman, FOUR, four more. Jadhav sta...  \n",
       "...                                                  ...  \n",
       "11569  bowler to batsman, FOUR, who'd've thought the ...  \n",
       "11570  bowler to batsman, SIX, short ball, and batsma...  \n",
       "11571  bowler to batsman, FOUR, a rare rank half-trac...  \n",
       "11572  bowler to batsman, 1 run, pushes this one hast...  \n",
       "11573  bowler to batsman, out Caught by Hetmyer! That...  \n",
       "\n",
       "[11574 rows x 5 columns]"
      ]
     },
     "execution_count": 10,
     "metadata": {},
     "output_type": "execute_result"
    }
   ],
   "source": [
    "df"
   ]
  },
  {
   "cell_type": "code",
   "execution_count": 11,
   "metadata": {},
   "outputs": [
    {
     "name": "stderr",
     "output_type": "stream",
     "text": [
      "/var/folders/q8/ljm60kbj15sdr2ljq0vcfbq00000gn/T/ipykernel_25303/1136366734.py:1: SettingWithCopyWarning: \n",
      "A value is trying to be set on a copy of a slice from a DataFrame.\n",
      "Try using .loc[row_indexer,col_indexer] = value instead\n",
      "\n",
      "See the caveats in the documentation: https://pandas.pydata.org/pandas-docs/stable/user_guide/indexing.html#returning-a-view-versus-a-copy\n",
      "  df['Modified_Commentary'] = df['Modified_Commentary'].str.replace('bowler to batsman, ', '', regex=False)\n"
     ]
    }
   ],
   "source": [
    "df['Modified_Commentary'] = df['Modified_Commentary'].str.replace('bowler to batsman, ', '', regex=False)\n"
   ]
  },
  {
   "cell_type": "code",
   "execution_count": 12,
   "metadata": {},
   "outputs": [
    {
     "data": {
      "text/plain": [
       "\"FOUR, four more. Jadhav starting to really find his timing now and he's looking dangerous. This is smart batting rather than just throwing his bat at everything. He knows that fine leg is up and so he waits for the back of a length delivery to come to him before pulling it over the fielder. bowler under pressure\""
      ]
     },
     "execution_count": 12,
     "metadata": {},
     "output_type": "execute_result"
    }
   ],
   "source": [
    "df.Modified_Commentary[4]"
   ]
  },
  {
   "cell_type": "code",
   "execution_count": 13,
   "metadata": {},
   "outputs": [],
   "source": [
    "df_commentary = df[['Modified_Commentary']]\n",
    "df_commentary.to_csv(\"df_commentary_new.csv\")"
   ]
  },
  {
   "cell_type": "code",
   "execution_count": null,
   "metadata": {},
   "outputs": [],
   "source": []
  }
 ],
 "metadata": {
  "kernelspec": {
   "display_name": "Python 3",
   "language": "python",
   "name": "python3"
  },
  "language_info": {
   "codemirror_mode": {
    "name": "ipython",
    "version": 3
   },
   "file_extension": ".py",
   "mimetype": "text/x-python",
   "name": "python",
   "nbconvert_exporter": "python",
   "pygments_lexer": "ipython3",
   "version": "3.10.8"
  }
 },
 "nbformat": 4,
 "nbformat_minor": 2
}
